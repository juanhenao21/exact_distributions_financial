{
 "cells": [
  {
   "cell_type": "markdown",
   "id": "major-continuity",
   "metadata": {},
   "source": [
    "# Aggregated returns distribution"
   ]
  },
  {
   "cell_type": "code",
   "execution_count": 1,
   "id": "electronic-restaurant",
   "metadata": {
    "hideCode": false,
    "hidePrompt": false
   },
   "outputs": [],
   "source": [
    "from matplotlib import pyplot as plt\n",
    "import numpy as np\n",
    "import pandas as pd\n",
    "from scipy.special import gamma, kv  # modified Bessel function of the second kind of real order v\n",
    "\n",
    "import ipywidgets as widgets\n",
    "from ipywidgets import interact"
   ]
  },
  {
   "cell_type": "markdown",
   "id": "funky-moses",
   "metadata": {},
   "source": [
    "### Load data"
   ]
  },
  {
   "cell_type": "code",
   "execution_count": 2,
   "id": "vietnamese-intervention",
   "metadata": {
    "hideCode": false,
    "hidePrompt": false
   },
   "outputs": [],
   "source": [
    "daily_returns = pd.read_csv('DailyReturns-Aktien-datamatrix.csv', header=None)"
   ]
  },
  {
   "cell_type": "markdown",
   "id": "finished-tongue",
   "metadata": {},
   "source": [
    "The daily returns has the companies in the rows and the returns data in the columns."
   ]
  },
  {
   "cell_type": "code",
   "execution_count": 3,
   "id": "statewide-graduation",
   "metadata": {
    "hideCode": false,
    "hidePrompt": false
   },
   "outputs": [
    {
     "data": {
      "text/plain": [
       "(352, 4851)"
      ]
     },
     "execution_count": 3,
     "metadata": {},
     "output_type": "execute_result"
    }
   ],
   "source": [
    "daily_returns.shape"
   ]
  },
  {
   "cell_type": "markdown",
   "id": "adult-ivory",
   "metadata": {},
   "source": [
    "To change the companies to the columns and the returns values to the rows we use the transpose."
   ]
  },
  {
   "cell_type": "code",
   "execution_count": 4,
   "id": "authentic-queen",
   "metadata": {
    "hideCode": false,
    "hidePrompt": false
   },
   "outputs": [
    {
     "data": {
      "text/plain": [
       "(4851, 352)"
      ]
     },
     "execution_count": 4,
     "metadata": {},
     "output_type": "execute_result"
    }
   ],
   "source": [
    "daily_returns_T = daily_returns.T\n",
    "daily_returns_T.shape"
   ]
  },
  {
   "cell_type": "markdown",
   "id": "welsh-circular",
   "metadata": {},
   "source": [
    "### Useful functions"
   ]
  },
  {
   "cell_type": "code",
   "execution_count": 5,
   "id": "vulnerable-african",
   "metadata": {
    "hideCode": false,
    "hidePrompt": false
   },
   "outputs": [],
   "source": [
    "def k_distribution(returns, N, alpha):\n",
    "    '''Computes the one dimensional K-distribution with parameters\n",
    "       N and alpha\n",
    "    '''\n",
    "    \n",
    "    first_part = (((np.sqrt(2)) ** (1 - N)) / (np.sqrt(np.pi) * gamma(N / 2))) \\\n",
    "                 * (np.sqrt(N / alpha)) ** (N / 2 + 0.5) * (np.abs(returns)) ** (N/2 - 0.5)\n",
    "    \n",
    "    second_part = kv(N / 2 - 0.5, np.abs(returns) * np.sqrt(N / alpha))\n",
    "    \n",
    "    dist = first_part * second_part\n",
    "    \n",
    "    return dist"
   ]
  },
  {
   "cell_type": "code",
   "execution_count": 6,
   "id": "generous-pattern",
   "metadata": {
    "hideCode": false,
    "hidePrompt": false
   },
   "outputs": [],
   "source": [
    "def rotate_and_scale(returns):\n",
    "    '''Rotates the returns in the eigenbasis of the covariance matrix\n",
    "       and normalizes them to standard deviation 1. The returns array must\n",
    "       have a TxK dimension, and K must be smaller than T.\n",
    "    '''\n",
    "    \n",
    "    cov = returns.cov()\n",
    "    \n",
    "    eig_val, eig_vec = np.linalg.eig(cov)\n",
    "    \n",
    "    rot, scale = eig_vec, np.diag(1 / np.sqrt(eig_val))\n",
    "    \n",
    "    trans = rot.dot(scale)\n",
    "    \n",
    "    return returns.dot(trans)"
   ]
  },
  {
   "cell_type": "markdown",
   "id": "extensive-institution",
   "metadata": {},
   "source": [
    "## Computation"
   ]
  },
  {
   "cell_type": "code",
   "execution_count": 7,
   "id": "competitive-effectiveness",
   "metadata": {},
   "outputs": [],
   "source": [
    "rr = np.arange(-8, 9, 0.11)\n",
    "bessel = k_distribution(rr, 3.2, 1)"
   ]
  },
  {
   "cell_type": "code",
   "execution_count": 8,
   "id": "hispanic-house",
   "metadata": {
    "hideCode": false,
    "hidePrompt": false
   },
   "outputs": [],
   "source": [
    "rot_returns = rotate_and_scale(daily_returns_T)"
   ]
  },
  {
   "cell_type": "code",
   "execution_count": 9,
   "id": "double-startup",
   "metadata": {},
   "outputs": [
    {
     "data": {
      "text/plain": [
       "(4851, 352)"
      ]
     },
     "execution_count": 9,
     "metadata": {},
     "output_type": "execute_result"
    }
   ],
   "source": [
    "rot_returns.shape"
   ]
  },
  {
   "cell_type": "code",
   "execution_count": 10,
   "id": "induced-variable",
   "metadata": {},
   "outputs": [
    {
     "data": {
      "text/plain": [
       "0.9999999999999991"
      ]
     },
     "execution_count": 10,
     "metadata": {},
     "output_type": "execute_result"
    }
   ],
   "source": [
    "rot_returns[0].std()"
   ]
  },
  {
   "cell_type": "markdown",
   "id": "cutting-pavilion",
   "metadata": {},
   "source": [
    "Aggregation of all the returns"
   ]
  },
  {
   "cell_type": "code",
   "execution_count": 11,
   "id": "auburn-monitoring",
   "metadata": {},
   "outputs": [],
   "source": [
    "one_col = []\n",
    "\n",
    "for col in rot_returns.columns:\n",
    "    one_col.append(rot_returns[col])\n",
    "    \n",
    "agg = pd.concat(one_col, ignore_index=True)"
   ]
  },
  {
   "cell_type": "code",
   "execution_count": 12,
   "id": "arctic-spelling",
   "metadata": {},
   "outputs": [
    {
     "data": {
      "image/png": "[encoded data removed]",
      "text/plain": [
       "<Figure size 1152x648 with 1 Axes>"
      ]
     },
     "metadata": {
      "needs_background": "light"
     },
     "output_type": "display_data"
    }
   ],
   "source": [
    "agg.plot(kind='density', figsize=(16, 9), logy=True, label='Aggregated returns', legend=True, lw=5)\n",
    "plt.plot(rr, bessel, 'o', label='K-distribution')\n",
    "plt.legend(fontsize=25)\n",
    "plt.xlim(-10, 10)\n",
    "plt.ylim(10 ** -4, 1)\n",
    "plt.xlabel(r'$\\tilde{r}$', fontsize=20)\n",
    "plt.ylabel('PDF', fontsize=20)\n",
    "plt.grid(True)"
   ]
  },
  {
   "cell_type": "code",
   "execution_count": 13,
   "id": "embedded-general",
   "metadata": {},
   "outputs": [
    {
     "data": {
      "image/png": "[encoded data removed]",
      "text/plain": [
       "<Figure size 1152x648 with 1 Axes>"
      ]
     },
     "metadata": {
      "needs_background": "light"
     },
     "output_type": "display_data"
    }
   ],
   "source": [
    "agg[::8].plot(kind='density', figsize=(16, 9), label='Aggregated returns', legend=True, lw=5)\n",
    "plt.plot(rr, bessel, 'o', label='K-distribution')\n",
    "plt.legend(fontsize=25)\n",
    "plt.xlim(-10, 10)\n",
    "plt.ylim(10 ** -4, 1)\n",
    "plt.xlabel(r'$\\tilde{r}$', fontsize=20)\n",
    "plt.ylabel('PDF', fontsize=20)\n",
    "plt.grid(True)"
   ]
  },
  {
   "cell_type": "code",
   "execution_count": 14,
   "id": "inclusive-silver",
   "metadata": {},
   "outputs": [
    {
     "data": {
      "application/vnd.jupyter.widget-view+json": {
       "model_id": "a12f234b222a444b8934381d341e87da",
       "version_major": 2,
       "version_minor": 0
      },
      "text/plain": [
       "interactive(children=(FloatSlider(value=10.0, description='i', max=20.0, min=1.0), Output()), _dom_classes=('w…"
      ]
     },
     "metadata": {},
     "output_type": "display_data"
    }
   ],
   "source": [
    "@interact(i=(1, 20, 0.1))\n",
    "def interactive_k_distribution(i):\n",
    "\n",
    "    \n",
    "    agg[::8].plot(kind='density', figsize=(16, 9), label='Aggregated returns', legend=True, lw=5)\n",
    "    plt.plot(rr, k_distribution(rr, i, 1), 'o', label='K-distribution')\n",
    "    plt.legend(fontsize=25)\n",
    "    plt.xlim(-10, 10)\n",
    "    plt.ylim(10 ** -4, 1)\n",
    "    plt.xlabel(r'$\\tilde{r}$', fontsize=20)\n",
    "    plt.ylabel('PDF', fontsize=20)\n",
    "    plt.grid(True)\n",
    "    \n",
    "    return None"
   ]
  },
  {
   "cell_type": "markdown",
   "id": "authentic-saskatchewan",
   "metadata": {},
   "source": [
    "### Check operations in rotate_and_scale function"
   ]
  },
  {
   "cell_type": "code",
   "execution_count": 15,
   "id": "amateur-characteristic",
   "metadata": {},
   "outputs": [
    {
     "data": {
      "text/plain": [
       "(352, 352)"
      ]
     },
     "execution_count": 15,
     "metadata": {},
     "output_type": "execute_result"
    }
   ],
   "source": [
    "cov = daily_returns_T.cov()\n",
    "cov.shape"
   ]
  },
  {
   "cell_type": "code",
   "execution_count": 16,
   "id": "horizontal-finder",
   "metadata": {},
   "outputs": [
    {
     "name": "stdout",
     "output_type": "stream",
     "text": [
      "(352,)\n",
      "(352, 352)\n"
     ]
    }
   ],
   "source": [
    "eig_val, eig_vec = np.linalg.eig(cov)\n",
    "print(eig_val.shape)\n",
    "print(eig_vec.shape)"
   ]
  },
  {
   "cell_type": "code",
   "execution_count": 17,
   "id": "conventional-thread",
   "metadata": {},
   "outputs": [
    {
     "name": "stdout",
     "output_type": "stream",
     "text": [
      "(352, 352)\n",
      "(352, 352)\n"
     ]
    }
   ],
   "source": [
    "rot, scale = eig_vec, np.diag(1 / np.sqrt(eig_val))\n",
    "print(rot.shape)\n",
    "print(scale.shape)"
   ]
  },
  {
   "cell_type": "code",
   "execution_count": 18,
   "id": "constitutional-workplace",
   "metadata": {},
   "outputs": [
    {
     "data": {
      "text/plain": [
       "(352, 352)"
      ]
     },
     "execution_count": 18,
     "metadata": {},
     "output_type": "execute_result"
    }
   ],
   "source": [
    "trans = rot.dot(scale)\n",
    "trans.shape"
   ]
  },
  {
   "cell_type": "code",
   "execution_count": 19,
   "id": "mental-market",
   "metadata": {},
   "outputs": [
    {
     "data": {
      "text/html": [
       "<div>\n",
       "<style scoped>\n",
       "    .dataframe tbody tr th:only-of-type {\n",
       "        vertical-align: middle;\n",
       "    }\n",
       "\n",
       "    .dataframe tbody tr th {\n",
       "        vertical-align: top;\n",
       "    }\n",
       "\n",
       "    .dataframe thead th {\n",
       "        text-align: right;\n",
       "    }\n",
       "</style>\n",
       "<table border=\"1\" class=\"dataframe\">\n",
       "  <thead>\n",
       "    <tr style=\"text-align: right;\">\n",
       "      <th></th>\n",
       "      <th>0</th>\n",
       "      <th>1</th>\n",
       "      <th>2</th>\n",
       "      <th>3</th>\n",
       "      <th>4</th>\n",
       "      <th>5</th>\n",
       "      <th>6</th>\n",
       "      <th>7</th>\n",
       "      <th>8</th>\n",
       "      <th>9</th>\n",
       "      <th>...</th>\n",
       "      <th>342</th>\n",
       "      <th>343</th>\n",
       "      <th>344</th>\n",
       "      <th>345</th>\n",
       "      <th>346</th>\n",
       "      <th>347</th>\n",
       "      <th>348</th>\n",
       "      <th>349</th>\n",
       "      <th>350</th>\n",
       "      <th>351</th>\n",
       "    </tr>\n",
       "  </thead>\n",
       "  <tbody>\n",
       "    <tr>\n",
       "      <th>0</th>\n",
       "      <td>-0.139463</td>\n",
       "      <td>0.131148</td>\n",
       "      <td>-0.065896</td>\n",
       "      <td>-0.557259</td>\n",
       "      <td>0.648759</td>\n",
       "      <td>-0.446396</td>\n",
       "      <td>-0.280311</td>\n",
       "      <td>0.139332</td>\n",
       "      <td>-0.311343</td>\n",
       "      <td>0.341929</td>\n",
       "      <td>...</td>\n",
       "      <td>0.853032</td>\n",
       "      <td>-1.812847</td>\n",
       "      <td>-0.034601</td>\n",
       "      <td>-0.467647</td>\n",
       "      <td>-0.787966</td>\n",
       "      <td>-0.177777</td>\n",
       "      <td>-0.672477</td>\n",
       "      <td>-0.443662</td>\n",
       "      <td>-0.357986</td>\n",
       "      <td>-0.006818</td>\n",
       "    </tr>\n",
       "    <tr>\n",
       "      <th>1</th>\n",
       "      <td>0.130519</td>\n",
       "      <td>-0.523999</td>\n",
       "      <td>-0.533188</td>\n",
       "      <td>0.080207</td>\n",
       "      <td>0.407482</td>\n",
       "      <td>0.924115</td>\n",
       "      <td>-0.887710</td>\n",
       "      <td>-0.409805</td>\n",
       "      <td>0.242005</td>\n",
       "      <td>-0.601377</td>\n",
       "      <td>...</td>\n",
       "      <td>0.383629</td>\n",
       "      <td>-1.441982</td>\n",
       "      <td>1.095213</td>\n",
       "      <td>-0.993805</td>\n",
       "      <td>1.080280</td>\n",
       "      <td>0.582044</td>\n",
       "      <td>-0.369005</td>\n",
       "      <td>-0.445838</td>\n",
       "      <td>0.892698</td>\n",
       "      <td>-1.485970</td>\n",
       "    </tr>\n",
       "    <tr>\n",
       "      <th>2</th>\n",
       "      <td>-0.543544</td>\n",
       "      <td>-0.487678</td>\n",
       "      <td>-0.410257</td>\n",
       "      <td>-0.677041</td>\n",
       "      <td>0.674555</td>\n",
       "      <td>-0.084498</td>\n",
       "      <td>-1.005910</td>\n",
       "      <td>1.188505</td>\n",
       "      <td>0.184292</td>\n",
       "      <td>0.350267</td>\n",
       "      <td>...</td>\n",
       "      <td>0.605686</td>\n",
       "      <td>0.823241</td>\n",
       "      <td>0.471988</td>\n",
       "      <td>-0.923678</td>\n",
       "      <td>0.722716</td>\n",
       "      <td>2.137787</td>\n",
       "      <td>0.939114</td>\n",
       "      <td>1.720872</td>\n",
       "      <td>1.390099</td>\n",
       "      <td>-1.699082</td>\n",
       "    </tr>\n",
       "    <tr>\n",
       "      <th>3</th>\n",
       "      <td>-0.848844</td>\n",
       "      <td>-0.823597</td>\n",
       "      <td>-0.785047</td>\n",
       "      <td>-0.527748</td>\n",
       "      <td>0.499856</td>\n",
       "      <td>-0.736688</td>\n",
       "      <td>-1.024233</td>\n",
       "      <td>0.328512</td>\n",
       "      <td>-0.480483</td>\n",
       "      <td>0.107309</td>\n",
       "      <td>...</td>\n",
       "      <td>-2.453457</td>\n",
       "      <td>0.592547</td>\n",
       "      <td>0.859337</td>\n",
       "      <td>0.559137</td>\n",
       "      <td>-0.956495</td>\n",
       "      <td>0.428386</td>\n",
       "      <td>-1.024082</td>\n",
       "      <td>0.839887</td>\n",
       "      <td>-0.249619</td>\n",
       "      <td>-0.498748</td>\n",
       "    </tr>\n",
       "    <tr>\n",
       "      <th>4</th>\n",
       "      <td>-0.773622</td>\n",
       "      <td>-0.532562</td>\n",
       "      <td>-0.370892</td>\n",
       "      <td>-0.631730</td>\n",
       "      <td>0.065420</td>\n",
       "      <td>0.558156</td>\n",
       "      <td>-0.014533</td>\n",
       "      <td>0.238190</td>\n",
       "      <td>0.733727</td>\n",
       "      <td>0.127941</td>\n",
       "      <td>...</td>\n",
       "      <td>0.359294</td>\n",
       "      <td>0.164945</td>\n",
       "      <td>-0.193519</td>\n",
       "      <td>-0.068468</td>\n",
       "      <td>-1.045079</td>\n",
       "      <td>0.890359</td>\n",
       "      <td>1.056620</td>\n",
       "      <td>-2.155783</td>\n",
       "      <td>0.608755</td>\n",
       "      <td>-0.672512</td>\n",
       "    </tr>\n",
       "    <tr>\n",
       "      <th>...</th>\n",
       "      <td>...</td>\n",
       "      <td>...</td>\n",
       "      <td>...</td>\n",
       "      <td>...</td>\n",
       "      <td>...</td>\n",
       "      <td>...</td>\n",
       "      <td>...</td>\n",
       "      <td>...</td>\n",
       "      <td>...</td>\n",
       "      <td>...</td>\n",
       "      <td>...</td>\n",
       "      <td>...</td>\n",
       "      <td>...</td>\n",
       "      <td>...</td>\n",
       "      <td>...</td>\n",
       "      <td>...</td>\n",
       "      <td>...</td>\n",
       "      <td>...</td>\n",
       "      <td>...</td>\n",
       "      <td>...</td>\n",
       "      <td>...</td>\n",
       "    </tr>\n",
       "    <tr>\n",
       "      <th>4846</th>\n",
       "      <td>-0.733750</td>\n",
       "      <td>0.268548</td>\n",
       "      <td>-0.186677</td>\n",
       "      <td>-0.426613</td>\n",
       "      <td>-0.001896</td>\n",
       "      <td>-0.763596</td>\n",
       "      <td>0.342504</td>\n",
       "      <td>-0.246950</td>\n",
       "      <td>0.028635</td>\n",
       "      <td>0.771835</td>\n",
       "      <td>...</td>\n",
       "      <td>-0.511302</td>\n",
       "      <td>-0.005714</td>\n",
       "      <td>0.246534</td>\n",
       "      <td>0.556459</td>\n",
       "      <td>-0.161353</td>\n",
       "      <td>0.269548</td>\n",
       "      <td>-0.296618</td>\n",
       "      <td>-0.024415</td>\n",
       "      <td>0.034319</td>\n",
       "      <td>-0.579178</td>\n",
       "    </tr>\n",
       "    <tr>\n",
       "      <th>4847</th>\n",
       "      <td>-1.004472</td>\n",
       "      <td>-0.331634</td>\n",
       "      <td>0.010390</td>\n",
       "      <td>-0.182976</td>\n",
       "      <td>-0.513353</td>\n",
       "      <td>-1.355027</td>\n",
       "      <td>-0.295800</td>\n",
       "      <td>-0.329860</td>\n",
       "      <td>-0.179492</td>\n",
       "      <td>0.402003</td>\n",
       "      <td>...</td>\n",
       "      <td>-0.412523</td>\n",
       "      <td>0.028564</td>\n",
       "      <td>-0.424798</td>\n",
       "      <td>0.310853</td>\n",
       "      <td>0.572572</td>\n",
       "      <td>0.215272</td>\n",
       "      <td>0.352738</td>\n",
       "      <td>0.280742</td>\n",
       "      <td>-0.119729</td>\n",
       "      <td>1.032836</td>\n",
       "    </tr>\n",
       "    <tr>\n",
       "      <th>4848</th>\n",
       "      <td>0.046199</td>\n",
       "      <td>-0.203211</td>\n",
       "      <td>0.250810</td>\n",
       "      <td>0.093851</td>\n",
       "      <td>-0.020565</td>\n",
       "      <td>-0.686791</td>\n",
       "      <td>-0.326363</td>\n",
       "      <td>-0.092363</td>\n",
       "      <td>-0.175445</td>\n",
       "      <td>-0.110445</td>\n",
       "      <td>...</td>\n",
       "      <td>0.435473</td>\n",
       "      <td>-0.435033</td>\n",
       "      <td>-0.284960</td>\n",
       "      <td>0.193208</td>\n",
       "      <td>-0.271351</td>\n",
       "      <td>0.249347</td>\n",
       "      <td>-1.105694</td>\n",
       "      <td>0.856111</td>\n",
       "      <td>1.078176</td>\n",
       "      <td>0.089472</td>\n",
       "    </tr>\n",
       "    <tr>\n",
       "      <th>4849</th>\n",
       "      <td>1.735657</td>\n",
       "      <td>-0.277010</td>\n",
       "      <td>0.037569</td>\n",
       "      <td>0.721303</td>\n",
       "      <td>-0.838704</td>\n",
       "      <td>0.067599</td>\n",
       "      <td>0.547490</td>\n",
       "      <td>0.106718</td>\n",
       "      <td>0.393050</td>\n",
       "      <td>-0.286764</td>\n",
       "      <td>...</td>\n",
       "      <td>0.709359</td>\n",
       "      <td>0.554057</td>\n",
       "      <td>0.624871</td>\n",
       "      <td>0.801591</td>\n",
       "      <td>0.661098</td>\n",
       "      <td>-0.561847</td>\n",
       "      <td>-0.025861</td>\n",
       "      <td>-0.128623</td>\n",
       "      <td>-0.240721</td>\n",
       "      <td>-0.249865</td>\n",
       "    </tr>\n",
       "    <tr>\n",
       "      <th>4850</th>\n",
       "      <td>0.470509</td>\n",
       "      <td>-0.259547</td>\n",
       "      <td>-0.043102</td>\n",
       "      <td>0.202712</td>\n",
       "      <td>-0.067883</td>\n",
       "      <td>-0.102875</td>\n",
       "      <td>0.059792</td>\n",
       "      <td>0.085016</td>\n",
       "      <td>-0.205825</td>\n",
       "      <td>0.619074</td>\n",
       "      <td>...</td>\n",
       "      <td>0.071579</td>\n",
       "      <td>-0.024515</td>\n",
       "      <td>0.304735</td>\n",
       "      <td>-0.070617</td>\n",
       "      <td>-0.490687</td>\n",
       "      <td>-0.362260</td>\n",
       "      <td>0.387439</td>\n",
       "      <td>0.742185</td>\n",
       "      <td>-0.022834</td>\n",
       "      <td>0.099213</td>\n",
       "    </tr>\n",
       "  </tbody>\n",
       "</table>\n",
       "<p>4851 rows × 352 columns</p>\n",
       "</div>"
      ],
      "text/plain": [
       "           0         1         2         3         4         5         6    \\\n",
       "0    -0.139463  0.131148 -0.065896 -0.557259  0.648759 -0.446396 -0.280311   \n",
       "1     0.130519 -0.523999 -0.533188  0.080207  0.407482  0.924115 -0.887710   \n",
       "2    -0.543544 -0.487678 -0.410257 -0.677041  0.674555 -0.084498 -1.005910   \n",
       "3    -0.848844 -0.823597 -0.785047 -0.527748  0.499856 -0.736688 -1.024233   \n",
       "4    -0.773622 -0.532562 -0.370892 -0.631730  0.065420  0.558156 -0.014533   \n",
       "...        ...       ...       ...       ...       ...       ...       ...   \n",
       "4846 -0.733750  0.268548 -0.186677 -0.426613 -0.001896 -0.763596  0.342504   \n",
       "4847 -1.004472 -0.331634  0.010390 -0.182976 -0.513353 -1.355027 -0.295800   \n",
       "4848  0.046199 -0.203211  0.250810  0.093851 -0.020565 -0.686791 -0.326363   \n",
       "4849  1.735657 -0.277010  0.037569  0.721303 -0.838704  0.067599  0.547490   \n",
       "4850  0.470509 -0.259547 -0.043102  0.202712 -0.067883 -0.102875  0.059792   \n",
       "\n",
       "           7         8         9    ...       342       343       344  \\\n",
       "0     0.139332 -0.311343  0.341929  ...  0.853032 -1.812847 -0.034601   \n",
       "1    -0.409805  0.242005 -0.601377  ...  0.383629 -1.441982  1.095213   \n",
       "2     1.188505  0.184292  0.350267  ...  0.605686  0.823241  0.471988   \n",
       "3     0.328512 -0.480483  0.107309  ... -2.453457  0.592547  0.859337   \n",
       "4     0.238190  0.733727  0.127941  ...  0.359294  0.164945 -0.193519   \n",
       "...        ...       ...       ...  ...       ...       ...       ...   \n",
       "4846 -0.246950  0.028635  0.771835  ... -0.511302 -0.005714  0.246534   \n",
       "4847 -0.329860 -0.179492  0.402003  ... -0.412523  0.028564 -0.424798   \n",
       "4848 -0.092363 -0.175445 -0.110445  ...  0.435473 -0.435033 -0.284960   \n",
       "4849  0.106718  0.393050 -0.286764  ...  0.709359  0.554057  0.624871   \n",
       "4850  0.085016 -0.205825  0.619074  ...  0.071579 -0.024515  0.304735   \n",
       "\n",
       "           345       346       347       348       349       350       351  \n",
       "0    -0.467647 -0.787966 -0.177777 -0.672477 -0.443662 -0.357986 -0.006818  \n",
       "1    -0.993805  1.080280  0.582044 -0.369005 -0.445838  0.892698 -1.485970  \n",
       "2    -0.923678  0.722716  2.137787  0.939114  1.720872  1.390099 -1.699082  \n",
       "3     0.559137 -0.956495  0.428386 -1.024082  0.839887 -0.249619 -0.498748  \n",
       "4    -0.068468 -1.045079  0.890359  1.056620 -2.155783  0.608755 -0.672512  \n",
       "...        ...       ...       ...       ...       ...       ...       ...  \n",
       "4846  0.556459 -0.161353  0.269548 -0.296618 -0.024415  0.034319 -0.579178  \n",
       "4847  0.310853  0.572572  0.215272  0.352738  0.280742 -0.119729  1.032836  \n",
       "4848  0.193208 -0.271351  0.249347 -1.105694  0.856111  1.078176  0.089472  \n",
       "4849  0.801591  0.661098 -0.561847 -0.025861 -0.128623 -0.240721 -0.249865  \n",
       "4850 -0.070617 -0.490687 -0.362260  0.387439  0.742185 -0.022834  0.099213  \n",
       "\n",
       "[4851 rows x 352 columns]"
      ]
     },
     "execution_count": 19,
     "metadata": {},
     "output_type": "execute_result"
    }
   ],
   "source": [
    "daily_returns_T.dot(trans)"
   ]
  },
  {
   "cell_type": "code",
   "execution_count": null,
   "id": "variable-enemy",
   "metadata": {},
   "outputs": [],
   "source": []
  }
 ],
 "metadata": {
  "hide_code_all_hidden": false,
  "kernelspec": {
   "display_name": "Python 3",
   "language": "python",
   "name": "python3"
  },
  "language_info": {
   "codemirror_mode": {
    "name": "ipython",
    "version": 3
   },
   "file_extension": ".py",
   "mimetype": "text/x-python",
   "name": "python",
   "nbconvert_exporter": "python",
   "pygments_lexer": "ipython3",
   "version": "3.6.9"
  }
 },
 "nbformat": 4,
 "nbformat_minor": 5
}
